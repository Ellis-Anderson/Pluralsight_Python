{
 "cells": [
  {
   "cell_type": "markdown",
   "metadata": {},
   "source": [
    "\n",
    "# Code for Pluralsight - Python: Getting Started\n",
    "### Section: Functions, Files, Yield and Lambda\n",
    "The below code is representative of the excercises in the section __Functions, Files, Yield and Lambda__.\n"
   ]
  },
  {
   "cell_type": "code",
   "execution_count": 1,
   "metadata": {},
   "outputs": [
    {
     "name": "stdout",
     "output_type": "stream",
     "text": [
      "['Greg\\n', 'Greg\\n', 'Asd\\n']\n"
     ]
    }
   ],
   "source": [
    "students = []\n",
    "\n",
    "def get_students_titlecase():\n",
    "    students_titlecase = []\n",
    "    for student in students:\n",
    "        students_titlecase.append(student[\"name\"].title())\n",
    "    return students_titlecase\n",
    "\n",
    "\n",
    "def print_students_titlecase():\n",
    "    students_titlecase = get_students_titlecase()\n",
    "    print(students_titlecase)\n",
    "    #for student in students_titlecase:\n",
    "    #    print(student)\n",
    "    \n",
    "    \n",
    "def add_student(name, student_id = 1):\n",
    "    student = {\"name\": name, \"student_id\": student_id}\n",
    "    students.append(student)\n",
    "    \n",
    "    \n",
    "def save_file(student):\n",
    "    try:\n",
    "        f = open(\"students.txt\", 'a')\n",
    "        f.write(student + \"\\n\")\n",
    "        f.close()\n",
    "    except Exception:\n",
    "        print(\"Could not save file\")\n",
    "        \n",
    "def read_file():\n",
    "    try:\n",
    "        f = open(\"students.txt\", 'r')\n",
    "        for student in f.readlines():\n",
    "            add_student(student)\n",
    "        f.close()\n",
    "    except Exception:\n",
    "        print(\"Could not read file\")\n",
    "        \n",
    "read_file()\n",
    "print_students_titlecase()\n",
    "\n",
    "student_name = input(\"Enter student name: \")\n",
    "student_id = input(\"Enter student id: \")\n",
    "add_student(student_name, student_id)\n",
    "\n",
    "save_file(student_name)\n"
   ]
  },
  {
   "cell_type": "code",
   "execution_count": null,
   "metadata": {},
   "outputs": [],
   "source": [
    "# The code below was for the 'hw assignment' to allow a teacher to repeatedly add students\n",
    "\n",
    "add_more = True\n",
    "\n",
    "while add_more == True:\n",
    "    add_more_in = input(\"Do you want to add a student? \")\n",
    "    if add_more_in.lower() != 'yes' or 'y':\n",
    "        add_more = False\n",
    "        break\n",
    "    else:\n",
    "        student_name = input(\"Enter student name: \")\n",
    "        student_id = input(\"Enter student id: \")\n",
    "        add_student(student_name, student_id)\n",
    "\n",
    "print_students_titlecase()"
   ]
  },
  {
   "cell_type": "markdown",
   "metadata": {},
   "source": [
    "### Section: Object Oriented Programming - Classes and Why We Need Them\n",
    "\n",
    "The following code is from the __Object Oriented Programming - Classes and Why We Need Them__ section.\n",
    "It expands on the previous code, reorganizing it with custom classes. \n",
    "It follows the videos through inheritance and polymorphism."
   ]
  },
  {
   "cell_type": "code",
   "execution_count": 13,
   "metadata": {},
   "outputs": [
    {
     "name": "stdout",
     "output_type": "stream",
     "text": [
      "James -HS\n"
     ]
    }
   ],
   "source": [
    "students = []\n",
    "\n",
    "class Student:\n",
    "    \n",
    "    # Parent class\n",
    "    \n",
    "    school_name = \"Springfield Elementary\"\n",
    "    \n",
    "    def __init__(self, name, student_id = 1):\n",
    "        self.name = name\n",
    "        self.student_id = student_id\n",
    "        students.append(self)\n",
    "        \n",
    "    def __str__(self):\n",
    "        return \"Student \" + self.name\n",
    "    \n",
    "    def get_name_capitalized(self):\n",
    "        return self.name.capitalize()\n",
    "        \n",
    "    def get_school_name(self):\n",
    "        return self.school_name\n",
    "        \n",
    "class HighSchoolStudent(Student):\n",
    "    \n",
    "    # Derived/child class. Attributes, like school_name,  can be overridden\n",
    "    \n",
    "    school_name = \"Springfield High School\"\n",
    "    \n",
    "    # Methods can also be overridden, as below\n",
    "    \n",
    "    def get_school_name(self):\n",
    "        return \"This is a high school student\"\n",
    "    \n",
    "    # You can also modify parent methods as shown below\n",
    "    # super() refers to the parent classes method\n",
    "    \n",
    "    def get_name_capitalized(self):\n",
    "        original_value = super().get_name_capitalized()\n",
    "        return original_value + ' -HS'\n",
    "    \n",
    "james = HighSchoolStudent('James')\n",
    "print(james.get_name_capitalized())"
   ]
  },
  {
   "cell_type": "markdown",
   "metadata": {},
   "source": [
    "This is the last of the code for __Object Oriented Programming - Classes and Why We Need Them__.\n",
    "It shows the code for a file `main.py` which refers to `hs_student.py` and `student.py`.\n",
    "These files contain the `HighSchoolStudent` and `Student` classes, respectively. "
   ]
  },
  {
   "cell_type": "code",
   "execution_count": null,
   "metadata": {},
   "outputs": [],
   "source": [
    "from hs_student import HighSchoolStudent\n",
    "from students import Student\n",
    "# from hs_student import * would import all functions/classes from hs_student\n",
    "\n",
    "james = HighSchoolStudent('James')\n",
    "print(james.get_name_capitalized())"
   ]
  },
  {
   "cell_type": "markdown",
   "metadata": {},
   "source": [
    "### Section: Putting it All Together - Let's Make it a Web App\n",
    "\n",
    "The following code is from the section __Putting it All Together__.\n",
    "This code uses files from the `students.py` file.\n",
    "It is also saved as `student_app.py`.\n",
    "Furthermore, this app is run using flask and depends on the `index.html` file within the `templates` directory. "
   ]
  },
  {
   "cell_type": "code",
   "execution_count": 2,
   "metadata": {},
   "outputs": [
    {
     "name": "stderr",
     "output_type": "stream",
     "text": [
      " * Running on http://127.0.0.1:5000/ (Press CTRL+C to quit)\n",
      " * Restarting with stat\n"
     ]
    },
    {
     "ename": "SystemExit",
     "evalue": "1",
     "output_type": "error",
     "traceback": [
      "An exception has occurred, use %tb to see the full traceback.\n",
      "\u001b[0;31mSystemExit\u001b[0m\u001b[0;31m:\u001b[0m 1\n"
     ]
    },
    {
     "name": "stderr",
     "output_type": "stream",
     "text": [
      "/usr/local/lib/python3.5/dist-packages/IPython/core/interactiveshell.py:2918: UserWarning: To exit: use 'exit', 'quit', or Ctrl-D.\n",
      "  warn(\"To exit: use 'exit', 'quit', or Ctrl-D.\", stacklevel=1)\n"
     ]
    }
   ],
   "source": [
    "from flask import Flask, render_template, redirect, url_for, request\n",
    "from students import Student\n",
    "\n",
    "students = []\n",
    "\n",
    "app = Flask(__name__)\n",
    "\n",
    "@app.route(\"/\", methods = [\"GET\", \"POST\"])\n",
    "def students_page():\n",
    "    if request.method == \"POST\":\n",
    "        new_student_id = request.form.get(\"student-id\", \"\")\n",
    "        new_student_name = request.form.get(\"name\", \"\")\n",
    "        new_student_last_name = request.form.get(\"last-name\", \"\")\n",
    "        \n",
    "        new_student = Student(name = new_student_name, student_id = new_student_id, last_name = new_student_last_name)\n",
    "        students.append(new_student)\n",
    "        \n",
    "        return redirect(url_for(\"students_page\"))\n",
    "    \n",
    "    return render_template(\"index.html\", students=students)\n",
    "\n",
    "if __name__ == \"__main__\":\n",
    "    app.run(debug = True)"
   ]
  },
  {
   "cell_type": "markdown",
   "metadata": {},
   "source": [
    "Below is an updated version of the `students.py` file.\n",
    "It allows for the addition of a last name field. "
   ]
  },
  {
   "cell_type": "code",
   "execution_count": null,
   "metadata": {},
   "outputs": [],
   "source": [
    "class Student:\n",
    "    \n",
    "    \"\"\"\n",
    "    Adds a Student to the list.\n",
    "    :param name: string - student name\n",
    "    :param student_id: integer - optional student ID\n",
    "    \"\"\"\n",
    "    \n",
    "    # Parent class\n",
    "    \n",
    "    school_name = \"Springfield Elementary\"\n",
    "    \n",
    "    def __init__(self, name, student_id = 1, last_name=\"none\"):\n",
    "        self.name = name\n",
    "        self.student_id = student_id\n",
    "        self.last_name = last_name\n",
    "        #students.append(self)\n",
    "        \n",
    "    def __str__(self):\n",
    "        return \"Student \" + self.name\n",
    "    \n",
    "    def get_name_capitalized(self):\n",
    "        return self.name.capitalize()\n",
    "        \n",
    "    def get_school_name(self):\n",
    "        return self.school_name"
   ]
  },
  {
   "cell_type": "markdown",
   "metadata": {},
   "source": [
    "### Section: Python Tips and Tricks\n",
    "\n",
    "The following code is from the __Python Tips and Tricks__ section. \n",
    "It includes notes on virtual environments, executables and more.\n",
    "\n",
    "__Virtual Envs:__"
   ]
  },
  {
   "cell_type": "code",
   "execution_count": null,
   "metadata": {},
   "outputs": [],
   "source": [
    "\"\"\"\n",
    "Virtual Environments allow you to have multiple versions \n",
    "of the same software (Django for example) \n",
    "without having a version conflict.\n",
    "To start:\n",
    "\"\"\"\n",
    "# from terminal\n",
    "pip install virtualenv\n",
    "\n",
    "\"\"\"\n",
    "You can create virtualenvs using the following syntax\n",
    "and they can have any name.\n",
    "\"\"\"\n",
    "# from terminal\n",
    "virtualenv <env_name>\n",
    "\n",
    "\"\"\"\n",
    "You can specify versions by using flags\n",
    "\"\"\"\n",
    "\n",
    "virtualenv --python=<path/to/python/executable> <env_name>\n",
    "\n",
    "\"\"\"\n",
    "These can all be stored in one folder for ease of access.\n",
    "They just need to be activated later.\n",
    "\"\"\"\n",
    "\n",
    "# from terminal\n",
    "source <path/to/virtualenvs_directory/env_name/bin/activate>\n",
    "\n",
    "\"\"\"\n",
    "your prompt will be prefixed with the virtual env name.\n",
    "Leave the environment by typing deactivate\n",
    "\"\"\"\n",
    "\n",
    "deactivate"
   ]
  },
  {
   "cell_type": "markdown",
   "metadata": {},
   "source": [
    "__Making Executables:__"
   ]
  },
  {
   "cell_type": "code",
   "execution_count": null,
   "metadata": {},
   "outputs": [],
   "source": [
    "\"\"\"\n",
    "pyinstaller is a package that converts python code into binary exe files.\n",
    "It is cross platform, making life easy.\n",
    "The code below shows how to download pyinstaller and create an exe file. \n",
    "\"\"\"\n",
    "\n",
    "# from terminal\n",
    "pip install pyinstaller\n",
    "\n",
    "pyinstaller <file>"
   ]
  }
 ],
 "metadata": {
  "kernelspec": {
   "display_name": "Python 3",
   "language": "python",
   "name": "python3"
  },
  "language_info": {
   "codemirror_mode": {
    "name": "ipython",
    "version": 3
   },
   "file_extension": ".py",
   "mimetype": "text/x-python",
   "name": "python",
   "nbconvert_exporter": "python",
   "pygments_lexer": "ipython3",
   "version": "3.5.2"
  }
 },
 "nbformat": 4,
 "nbformat_minor": 2
}
